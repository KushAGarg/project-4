{
 "cells": [
  {
   "cell_type": "code",
   "execution_count": 1,
   "metadata": {},
   "outputs": [],
   "source": [
    "import pandas as pd\n",
    "import tensorflow as tf\n",
    "from pathlib import Path\n",
    "from sklearn.model_selection import train_test_split"
   ]
  },
  {
   "cell_type": "code",
   "execution_count": 2,
   "metadata": {},
   "outputs": [
    {
     "data": {
      "text/html": [
       "<div>\n",
       "<style scoped>\n",
       "    .dataframe tbody tr th:only-of-type {\n",
       "        vertical-align: middle;\n",
       "    }\n",
       "\n",
       "    .dataframe tbody tr th {\n",
       "        vertical-align: top;\n",
       "    }\n",
       "\n",
       "    .dataframe thead th {\n",
       "        text-align: right;\n",
       "    }\n",
       "</style>\n",
       "<table border=\"1\" class=\"dataframe\">\n",
       "  <thead>\n",
       "    <tr style=\"text-align: right;\">\n",
       "      <th></th>\n",
       "      <th>SquareFeet</th>\n",
       "      <th>Bedrooms</th>\n",
       "      <th>Bathrooms</th>\n",
       "      <th>Neighborhood</th>\n",
       "      <th>YearBuilt</th>\n",
       "      <th>Price</th>\n",
       "    </tr>\n",
       "  </thead>\n",
       "  <tbody>\n",
       "    <tr>\n",
       "      <th>0</th>\n",
       "      <td>2126</td>\n",
       "      <td>4</td>\n",
       "      <td>1</td>\n",
       "      <td>Rural</td>\n",
       "      <td>1969</td>\n",
       "      <td>215355.283618</td>\n",
       "    </tr>\n",
       "    <tr>\n",
       "      <th>1</th>\n",
       "      <td>2459</td>\n",
       "      <td>3</td>\n",
       "      <td>2</td>\n",
       "      <td>Rural</td>\n",
       "      <td>1980</td>\n",
       "      <td>195014.221626</td>\n",
       "    </tr>\n",
       "    <tr>\n",
       "      <th>2</th>\n",
       "      <td>1860</td>\n",
       "      <td>2</td>\n",
       "      <td>1</td>\n",
       "      <td>Suburb</td>\n",
       "      <td>1970</td>\n",
       "      <td>306891.012076</td>\n",
       "    </tr>\n",
       "    <tr>\n",
       "      <th>3</th>\n",
       "      <td>2294</td>\n",
       "      <td>2</td>\n",
       "      <td>1</td>\n",
       "      <td>Urban</td>\n",
       "      <td>1996</td>\n",
       "      <td>206786.787153</td>\n",
       "    </tr>\n",
       "    <tr>\n",
       "      <th>4</th>\n",
       "      <td>2130</td>\n",
       "      <td>5</td>\n",
       "      <td>2</td>\n",
       "      <td>Suburb</td>\n",
       "      <td>2001</td>\n",
       "      <td>272436.239065</td>\n",
       "    </tr>\n",
       "    <tr>\n",
       "      <th>5</th>\n",
       "      <td>2095</td>\n",
       "      <td>2</td>\n",
       "      <td>3</td>\n",
       "      <td>Suburb</td>\n",
       "      <td>2020</td>\n",
       "      <td>198208.803907</td>\n",
       "    </tr>\n",
       "    <tr>\n",
       "      <th>6</th>\n",
       "      <td>2724</td>\n",
       "      <td>2</td>\n",
       "      <td>1</td>\n",
       "      <td>Suburb</td>\n",
       "      <td>1993</td>\n",
       "      <td>343429.319110</td>\n",
       "    </tr>\n",
       "    <tr>\n",
       "      <th>7</th>\n",
       "      <td>2044</td>\n",
       "      <td>4</td>\n",
       "      <td>3</td>\n",
       "      <td>Rural</td>\n",
       "      <td>1957</td>\n",
       "      <td>184992.321268</td>\n",
       "    </tr>\n",
       "    <tr>\n",
       "      <th>8</th>\n",
       "      <td>2638</td>\n",
       "      <td>4</td>\n",
       "      <td>3</td>\n",
       "      <td>Urban</td>\n",
       "      <td>1959</td>\n",
       "      <td>377998.588152</td>\n",
       "    </tr>\n",
       "    <tr>\n",
       "      <th>9</th>\n",
       "      <td>1121</td>\n",
       "      <td>5</td>\n",
       "      <td>2</td>\n",
       "      <td>Urban</td>\n",
       "      <td>2004</td>\n",
       "      <td>95961.926014</td>\n",
       "    </tr>\n",
       "  </tbody>\n",
       "</table>\n",
       "</div>"
      ],
      "text/plain": [
       "   SquareFeet  Bedrooms  Bathrooms Neighborhood  YearBuilt          Price\n",
       "0        2126         4          1        Rural       1969  215355.283618\n",
       "1        2459         3          2        Rural       1980  195014.221626\n",
       "2        1860         2          1       Suburb       1970  306891.012076\n",
       "3        2294         2          1        Urban       1996  206786.787153\n",
       "4        2130         5          2       Suburb       2001  272436.239065\n",
       "5        2095         2          3       Suburb       2020  198208.803907\n",
       "6        2724         2          1       Suburb       1993  343429.319110\n",
       "7        2044         4          3        Rural       1957  184992.321268\n",
       "8        2638         4          3        Urban       1959  377998.588152\n",
       "9        1121         5          2        Urban       2004   95961.926014"
      ]
     },
     "execution_count": 2,
     "metadata": {},
     "output_type": "execute_result"
    }
   ],
   "source": [
    "df = pd.read_csv(Path(\"../data/housing_price_dataset.csv\"))\n",
    "df.head(10)"
   ]
  },
  {
   "cell_type": "code",
   "execution_count": 3,
   "metadata": {},
   "outputs": [
    {
     "data": {
      "text/plain": [
       "SquareFeet       2000\n",
       "Bedrooms            4\n",
       "Bathrooms           3\n",
       "Neighborhood        3\n",
       "YearBuilt          72\n",
       "Price           50000\n",
       "dtype: int64"
      ]
     },
     "execution_count": 3,
     "metadata": {},
     "output_type": "execute_result"
    }
   ],
   "source": [
    "df.nunique()"
   ]
  },
  {
   "cell_type": "code",
   "execution_count": 4,
   "metadata": {},
   "outputs": [
    {
     "data": {
      "text/plain": [
       "2486    43\n",
       "1897    41\n",
       "2946    40\n",
       "2573    40\n",
       "1398    40\n",
       "        ..\n",
       "1019    12\n",
       "1635    12\n",
       "2330    12\n",
       "2087    11\n",
       "1828    10\n",
       "Name: SquareFeet, Length: 2000, dtype: int64"
      ]
     },
     "execution_count": 4,
     "metadata": {},
     "output_type": "execute_result"
    }
   ],
   "source": [
    "square_feet_vc = df[\"SquareFeet\"].value_counts()\n",
    "square_feet_vc"
   ]
  },
  {
   "cell_type": "code",
   "execution_count": 5,
   "metadata": {},
   "outputs": [
    {
     "data": {
      "text/plain": [
       "1968    777\n",
       "1977    742\n",
       "1983    741\n",
       "1967    729\n",
       "1999    728\n",
       "       ... \n",
       "1950    643\n",
       "2016    642\n",
       "2006    640\n",
       "2012    638\n",
       "2001    621\n",
       "Name: YearBuilt, Length: 72, dtype: int64"
      ]
     },
     "execution_count": 5,
     "metadata": {},
     "output_type": "execute_result"
    }
   ],
   "source": [
    "year_built_vc = df[\"YearBuilt\"].value_counts()\n",
    "year_built_vc"
   ]
  },
  {
   "cell_type": "code",
   "execution_count": 6,
   "metadata": {},
   "outputs": [
    {
     "data": {
      "text/plain": [
       "Suburb    16721\n",
       "Rural     16676\n",
       "Urban     16603\n",
       "Name: Neighborhood, dtype: int64"
      ]
     },
     "execution_count": 6,
     "metadata": {},
     "output_type": "execute_result"
    }
   ],
   "source": [
    "neighborhood_vc = df[\"Neighborhood\"].value_counts()\n",
    "neighborhood_vc"
   ]
  },
  {
   "cell_type": "code",
   "execution_count": 7,
   "metadata": {},
   "outputs": [
    {
     "data": {
      "text/plain": [
       "3    12661\n",
       "5    12468\n",
       "2    12436\n",
       "4    12435\n",
       "Name: Bedrooms, dtype: int64"
      ]
     },
     "execution_count": 7,
     "metadata": {},
     "output_type": "execute_result"
    }
   ],
   "source": [
    "bedroom_vc = df[\"Bedrooms\"].value_counts()\n",
    "bedroom_vc"
   ]
  },
  {
   "cell_type": "code",
   "execution_count": 8,
   "metadata": {},
   "outputs": [
    {
     "data": {
      "text/plain": [
       "1    16755\n",
       "2    16719\n",
       "3    16526\n",
       "Name: Bathrooms, dtype: int64"
      ]
     },
     "execution_count": 8,
     "metadata": {},
     "output_type": "execute_result"
    }
   ],
   "source": [
    "bathroom_vc = df[\"Bathrooms\"].value_counts()\n",
    "bathroom_vc"
   ]
  },
  {
   "cell_type": "code",
   "execution_count": 9,
   "metadata": {},
   "outputs": [
    {
     "data": {
      "text/html": [
       "<div>\n",
       "<style scoped>\n",
       "    .dataframe tbody tr th:only-of-type {\n",
       "        vertical-align: middle;\n",
       "    }\n",
       "\n",
       "    .dataframe tbody tr th {\n",
       "        vertical-align: top;\n",
       "    }\n",
       "\n",
       "    .dataframe thead th {\n",
       "        text-align: right;\n",
       "    }\n",
       "</style>\n",
       "<table border=\"1\" class=\"dataframe\">\n",
       "  <thead>\n",
       "    <tr style=\"text-align: right;\">\n",
       "      <th></th>\n",
       "      <th>SquareFeet</th>\n",
       "      <th>Bedrooms</th>\n",
       "      <th>Bathrooms</th>\n",
       "      <th>YearBuilt</th>\n",
       "      <th>Price</th>\n",
       "      <th>Neighborhood_Rural</th>\n",
       "      <th>Neighborhood_Suburb</th>\n",
       "      <th>Neighborhood_Urban</th>\n",
       "    </tr>\n",
       "  </thead>\n",
       "  <tbody>\n",
       "    <tr>\n",
       "      <th>0</th>\n",
       "      <td>2126</td>\n",
       "      <td>4</td>\n",
       "      <td>1</td>\n",
       "      <td>1969</td>\n",
       "      <td>215355.283618</td>\n",
       "      <td>1</td>\n",
       "      <td>0</td>\n",
       "      <td>0</td>\n",
       "    </tr>\n",
       "    <tr>\n",
       "      <th>1</th>\n",
       "      <td>2459</td>\n",
       "      <td>3</td>\n",
       "      <td>2</td>\n",
       "      <td>1980</td>\n",
       "      <td>195014.221626</td>\n",
       "      <td>1</td>\n",
       "      <td>0</td>\n",
       "      <td>0</td>\n",
       "    </tr>\n",
       "    <tr>\n",
       "      <th>2</th>\n",
       "      <td>1860</td>\n",
       "      <td>2</td>\n",
       "      <td>1</td>\n",
       "      <td>1970</td>\n",
       "      <td>306891.012076</td>\n",
       "      <td>0</td>\n",
       "      <td>1</td>\n",
       "      <td>0</td>\n",
       "    </tr>\n",
       "    <tr>\n",
       "      <th>3</th>\n",
       "      <td>2294</td>\n",
       "      <td>2</td>\n",
       "      <td>1</td>\n",
       "      <td>1996</td>\n",
       "      <td>206786.787153</td>\n",
       "      <td>0</td>\n",
       "      <td>0</td>\n",
       "      <td>1</td>\n",
       "    </tr>\n",
       "    <tr>\n",
       "      <th>4</th>\n",
       "      <td>2130</td>\n",
       "      <td>5</td>\n",
       "      <td>2</td>\n",
       "      <td>2001</td>\n",
       "      <td>272436.239065</td>\n",
       "      <td>0</td>\n",
       "      <td>1</td>\n",
       "      <td>0</td>\n",
       "    </tr>\n",
       "    <tr>\n",
       "      <th>5</th>\n",
       "      <td>2095</td>\n",
       "      <td>2</td>\n",
       "      <td>3</td>\n",
       "      <td>2020</td>\n",
       "      <td>198208.803907</td>\n",
       "      <td>0</td>\n",
       "      <td>1</td>\n",
       "      <td>0</td>\n",
       "    </tr>\n",
       "    <tr>\n",
       "      <th>6</th>\n",
       "      <td>2724</td>\n",
       "      <td>2</td>\n",
       "      <td>1</td>\n",
       "      <td>1993</td>\n",
       "      <td>343429.319110</td>\n",
       "      <td>0</td>\n",
       "      <td>1</td>\n",
       "      <td>0</td>\n",
       "    </tr>\n",
       "    <tr>\n",
       "      <th>7</th>\n",
       "      <td>2044</td>\n",
       "      <td>4</td>\n",
       "      <td>3</td>\n",
       "      <td>1957</td>\n",
       "      <td>184992.321268</td>\n",
       "      <td>1</td>\n",
       "      <td>0</td>\n",
       "      <td>0</td>\n",
       "    </tr>\n",
       "    <tr>\n",
       "      <th>8</th>\n",
       "      <td>2638</td>\n",
       "      <td>4</td>\n",
       "      <td>3</td>\n",
       "      <td>1959</td>\n",
       "      <td>377998.588152</td>\n",
       "      <td>0</td>\n",
       "      <td>0</td>\n",
       "      <td>1</td>\n",
       "    </tr>\n",
       "    <tr>\n",
       "      <th>9</th>\n",
       "      <td>1121</td>\n",
       "      <td>5</td>\n",
       "      <td>2</td>\n",
       "      <td>2004</td>\n",
       "      <td>95961.926014</td>\n",
       "      <td>0</td>\n",
       "      <td>0</td>\n",
       "      <td>1</td>\n",
       "    </tr>\n",
       "  </tbody>\n",
       "</table>\n",
       "</div>"
      ],
      "text/plain": [
       "   SquareFeet  Bedrooms  Bathrooms  YearBuilt          Price  \\\n",
       "0        2126         4          1       1969  215355.283618   \n",
       "1        2459         3          2       1980  195014.221626   \n",
       "2        1860         2          1       1970  306891.012076   \n",
       "3        2294         2          1       1996  206786.787153   \n",
       "4        2130         5          2       2001  272436.239065   \n",
       "5        2095         2          3       2020  198208.803907   \n",
       "6        2724         2          1       1993  343429.319110   \n",
       "7        2044         4          3       1957  184992.321268   \n",
       "8        2638         4          3       1959  377998.588152   \n",
       "9        1121         5          2       2004   95961.926014   \n",
       "\n",
       "   Neighborhood_Rural  Neighborhood_Suburb  Neighborhood_Urban  \n",
       "0                   1                    0                   0  \n",
       "1                   1                    0                   0  \n",
       "2                   0                    1                   0  \n",
       "3                   0                    0                   1  \n",
       "4                   0                    1                   0  \n",
       "5                   0                    1                   0  \n",
       "6                   0                    1                   0  \n",
       "7                   1                    0                   0  \n",
       "8                   0                    0                   1  \n",
       "9                   0                    0                   1  "
      ]
     },
     "execution_count": 9,
     "metadata": {},
     "output_type": "execute_result"
    }
   ],
   "source": [
    "full_df = pd.get_dummies(df)\n",
    "full_df.head(10)"
   ]
  },
  {
   "cell_type": "code",
   "execution_count": 10,
   "metadata": {},
   "outputs": [
    {
     "name": "stdout",
     "output_type": "stream",
     "text": [
      "Features\n",
      "   SquareFeet  Bedrooms  Bathrooms  YearBuilt  Neighborhood_Rural  \\\n",
      "0        2126         4          1       1969                   1   \n",
      "1        2459         3          2       1980                   1   \n",
      "2        1860         2          1       1970                   0   \n",
      "3        2294         2          1       1996                   0   \n",
      "4        2130         5          2       2001                   0   \n",
      "5        2095         2          3       2020                   0   \n",
      "6        2724         2          1       1993                   0   \n",
      "7        2044         4          3       1957                   1   \n",
      "8        2638         4          3       1959                   0   \n",
      "9        1121         5          2       2004                   0   \n",
      "\n",
      "   Neighborhood_Suburb  Neighborhood_Urban  \n",
      "0                    0                   0  \n",
      "1                    0                   0  \n",
      "2                    1                   0  \n",
      "3                    0                   1  \n",
      "4                    1                   0  \n",
      "5                    1                   0  \n",
      "6                    1                   0  \n",
      "7                    0                   0  \n",
      "8                    0                   1  \n",
      "9                    0                   1  \n",
      "\n",
      "Values\n",
      "               Price\n",
      "0      215355.283618\n",
      "1      195014.221626\n",
      "2      306891.012076\n",
      "3      206786.787153\n",
      "4      272436.239065\n",
      "...              ...\n",
      "49995  100080.865895\n",
      "49996  374507.656727\n",
      "49997  384110.555590\n",
      "49998  380512.685957\n",
      "49999  221618.583218\n",
      "\n",
      "[50000 rows x 1 columns]\n"
     ]
    }
   ],
   "source": [
    "print(\"Features\")\n",
    "X = full_df.drop([\"Price\"], axis=1)\n",
    "print(X.head(10))\n",
    "y = full_df[[\"Price\"]]\n",
    "print(\"\\nValues\")\n",
    "print(y)"
   ]
  },
  {
   "cell_type": "code",
   "execution_count": 11,
   "metadata": {},
   "outputs": [
    {
     "name": "stdout",
     "output_type": "stream",
     "text": [
      "       SquareFeet  Bedrooms  Bathrooms  YearBuilt  Neighborhood_Rural  \\\n",
      "49236        2826         2          3       1976                   0   \n",
      "24779        2665         5          3       1985                   1   \n",
      "35795        2506         3          2       2010                   0   \n",
      "44754        2971         3          2       1969                   0   \n",
      "44356        1910         3          1       1958                   0   \n",
      "...           ...       ...        ...        ...                 ...   \n",
      "48417        1989         3          3       1965                   0   \n",
      "22637        2436         3          1       1987                   0   \n",
      "42891        2805         2          3       1982                   0   \n",
      "38368        1226         5          2       2016                   0   \n",
      "14000        2660         3          3       1996                   0   \n",
      "\n",
      "       Neighborhood_Suburb  Neighborhood_Urban  \n",
      "49236                    1                   0  \n",
      "24779                    0                   0  \n",
      "35795                    1                   0  \n",
      "44754                    0                   1  \n",
      "44356                    0                   1  \n",
      "...                    ...                 ...  \n",
      "48417                    0                   1  \n",
      "22637                    0                   1  \n",
      "42891                    0                   1  \n",
      "38368                    1                   0  \n",
      "14000                    1                   0  \n",
      "\n",
      "[37500 rows x 7 columns]\n",
      "               Price\n",
      "49236  248750.876619\n",
      "24779  264573.720550\n",
      "35795  185948.448699\n",
      "44754  315257.425800\n",
      "44356  244867.008658\n",
      "...              ...\n",
      "48417  252593.413095\n",
      "22637  213546.377461\n",
      "42891  293044.315267\n",
      "38368  158194.535911\n",
      "14000  275647.991794\n",
      "\n",
      "[37500 rows x 1 columns]\n"
     ]
    }
   ],
   "source": [
    "X_train, X_test, y_train, y_test = train_test_split(X, y, random_state = 50)\n",
    "print(X_train)\n",
    "print(y_train)"
   ]
  },
  {
   "cell_type": "code",
   "execution_count": 12,
   "metadata": {},
   "outputs": [
    {
     "name": "stdout",
     "output_type": "stream",
     "text": [
      "Model: \"sequential\"\n",
      "_________________________________________________________________\n",
      " Layer (type)                Output Shape              Param #   \n",
      "=================================================================\n",
      " dense (Dense)               (None, 10)                80        \n",
      "                                                                 \n",
      " dense_1 (Dense)             (None, 20)                220       \n",
      "                                                                 \n",
      " dense_2 (Dense)             (None, 5)                 105       \n",
      "                                                                 \n",
      " dense_3 (Dense)             (None, 1)                 6         \n",
      "                                                                 \n",
      "=================================================================\n",
      "Total params: 411\n",
      "Trainable params: 411\n",
      "Non-trainable params: 0\n",
      "_________________________________________________________________\n"
     ]
    }
   ],
   "source": [
    "nn = tf.keras.models.Sequential()\n",
    "\n",
    "# model for the neural network\n",
    "nn.add(tf.keras.layers.Dense(units=10, activation='relu', input_dim=len(X.columns)))\n",
    "\n",
    "nn.add(tf.keras.layers.Dense(units=20, activation='relu'))\n",
    "\n",
    "nn.add(tf.keras.layers.Dense(units=5, activation='relu'))\n",
    "\n",
    "nn.add(tf.keras.layers.Dense(units=1, activation='relu'))\n",
    "\n",
    "nn.summary()"
   ]
  },
  {
   "cell_type": "code",
   "execution_count": 13,
   "metadata": {},
   "outputs": [
    {
     "name": "stdout",
     "output_type": "stream",
     "text": [
      "Epoch 1/50\n",
      "1172/1172 [==============================] - 4s 3ms/step - loss: 19.4050 - msle: 19.4050\n",
      "Epoch 2/50\n",
      "1172/1172 [==============================] - 3s 3ms/step - loss: 1.8826 - msle: 1.8826\n",
      "Epoch 3/50\n",
      "1172/1172 [==============================] - 3s 3ms/step - loss: 0.3690 - msle: 0.3690\n",
      "Epoch 4/50\n",
      "1172/1172 [==============================] - 3s 3ms/step - loss: 0.1894 - msle: 0.1894\n",
      "Epoch 5/50\n",
      "1172/1172 [==============================] - 3s 3ms/step - loss: 0.1793 - msle: 0.1793\n",
      "Epoch 6/50\n",
      "1172/1172 [==============================] - 3s 3ms/step - loss: 0.1766 - msle: 0.1766\n",
      "Epoch 7/50\n",
      "1172/1172 [==============================] - 3s 3ms/step - loss: 0.1722 - msle: 0.1722\n",
      "Epoch 8/50\n",
      "1172/1172 [==============================] - 3s 3ms/step - loss: 0.1653 - msle: 0.1653\n",
      "Epoch 9/50\n",
      "1172/1172 [==============================] - 3s 3ms/step - loss: 0.1567 - msle: 0.1567\n",
      "Epoch 10/50\n",
      "1172/1172 [==============================] - 3s 3ms/step - loss: 0.1498 - msle: 0.1498\n",
      "Epoch 11/50\n",
      "1172/1172 [==============================] - 3s 3ms/step - loss: 0.1473 - msle: 0.1473\n",
      "Epoch 12/50\n",
      "1172/1172 [==============================] - 3s 3ms/step - loss: 0.1469 - msle: 0.1469\n",
      "Epoch 13/50\n",
      "1172/1172 [==============================] - 3s 3ms/step - loss: 0.1469 - msle: 0.1469\n",
      "Epoch 14/50\n",
      "1172/1172 [==============================] - 3s 3ms/step - loss: 0.1469 - msle: 0.1469\n",
      "Epoch 15/50\n",
      "1172/1172 [==============================] - 3s 3ms/step - loss: 0.1470 - msle: 0.1470\n",
      "Epoch 16/50\n",
      "1172/1172 [==============================] - 3s 3ms/step - loss: 0.1469 - msle: 0.1469\n",
      "Epoch 17/50\n",
      "1172/1172 [==============================] - 3s 3ms/step - loss: 0.1469 - msle: 0.1469\n",
      "Epoch 18/50\n",
      "1172/1172 [==============================] - 3s 3ms/step - loss: 0.1469 - msle: 0.1469\n",
      "Epoch 19/50\n",
      "1172/1172 [==============================] - 3s 3ms/step - loss: 0.1469 - msle: 0.1469\n",
      "Epoch 20/50\n",
      "1172/1172 [==============================] - 3s 3ms/step - loss: 0.1469 - msle: 0.1469\n",
      "Epoch 21/50\n",
      "1172/1172 [==============================] - 3s 3ms/step - loss: 0.1468 - msle: 0.1468\n",
      "Epoch 22/50\n",
      "1172/1172 [==============================] - 4s 3ms/step - loss: 0.1469 - msle: 0.1469\n",
      "Epoch 23/50\n",
      "1172/1172 [==============================] - 3s 3ms/step - loss: 0.1468 - msle: 0.1468\n",
      "Epoch 24/50\n",
      "1172/1172 [==============================] - 3s 3ms/step - loss: 0.1468 - msle: 0.1468\n",
      "Epoch 25/50\n",
      "1172/1172 [==============================] - 3s 3ms/step - loss: 0.1469 - msle: 0.1469\n",
      "Epoch 26/50\n",
      "1172/1172 [==============================] - 3s 3ms/step - loss: 0.1468 - msle: 0.1468\n",
      "Epoch 27/50\n",
      "1172/1172 [==============================] - 3s 3ms/step - loss: 0.1468 - msle: 0.1468\n",
      "Epoch 28/50\n",
      "1172/1172 [==============================] - 3s 2ms/step - loss: 0.1467 - msle: 0.1467\n",
      "Epoch 29/50\n",
      "1172/1172 [==============================] - 3s 3ms/step - loss: 0.1468 - msle: 0.1468\n",
      "Epoch 30/50\n",
      "1172/1172 [==============================] - 3s 3ms/step - loss: 0.1468 - msle: 0.1468\n",
      "Epoch 31/50\n",
      "1172/1172 [==============================] - 3s 3ms/step - loss: 0.1467 - msle: 0.1467\n",
      "Epoch 32/50\n",
      "1172/1172 [==============================] - 3s 3ms/step - loss: 0.1468 - msle: 0.1468\n",
      "Epoch 33/50\n",
      "1172/1172 [==============================] - 3s 3ms/step - loss: 0.1468 - msle: 0.1468\n",
      "Epoch 34/50\n",
      "1172/1172 [==============================] - 3s 3ms/step - loss: 0.1467 - msle: 0.1467\n",
      "Epoch 35/50\n",
      "1172/1172 [==============================] - 3s 3ms/step - loss: 0.1467 - msle: 0.1467\n",
      "Epoch 36/50\n",
      "1172/1172 [==============================] - 3s 3ms/step - loss: 0.1467 - msle: 0.1467\n",
      "Epoch 37/50\n",
      "1172/1172 [==============================] - 3s 3ms/step - loss: 0.1468 - msle: 0.1468\n",
      "Epoch 38/50\n",
      "1172/1172 [==============================] - 3s 3ms/step - loss: 0.1468 - msle: 0.1468\n",
      "Epoch 39/50\n",
      "1172/1172 [==============================] - 3s 3ms/step - loss: 0.1467 - msle: 0.1467\n",
      "Epoch 40/50\n",
      "1172/1172 [==============================] - 11s 9ms/step - loss: 0.1467 - msle: 0.1467\n",
      "Epoch 41/50\n",
      "1172/1172 [==============================] - 10s 8ms/step - loss: 0.1467 - msle: 0.1467\n",
      "Epoch 42/50\n",
      "1172/1172 [==============================] - 11s 10ms/step - loss: 0.1467 - msle: 0.1467\n",
      "Epoch 43/50\n",
      "1172/1172 [==============================] - 11s 9ms/step - loss: 0.1466 - msle: 0.1466\n",
      "Epoch 44/50\n",
      "1172/1172 [==============================] - 9s 8ms/step - loss: 0.1467 - msle: 0.1467\n",
      "Epoch 45/50\n",
      "1172/1172 [==============================] - 8s 7ms/step - loss: 0.1467 - msle: 0.1467\n",
      "Epoch 46/50\n",
      "1172/1172 [==============================] - 5s 4ms/step - loss: 0.1466 - msle: 0.1466\n",
      "Epoch 47/50\n",
      "1172/1172 [==============================] - 4s 3ms/step - loss: 0.1467 - msle: 0.1467\n",
      "Epoch 48/50\n",
      "1172/1172 [==============================] - 5s 4ms/step - loss: 0.1466 - msle: 0.1466\n",
      "Epoch 49/50\n",
      "1172/1172 [==============================] - 3s 3ms/step - loss: 0.1466 - msle: 0.1466\n",
      "Epoch 50/50\n",
      "1172/1172 [==============================] - 3s 3ms/step - loss: 0.1466 - msle: 0.1466\n"
     ]
    }
   ],
   "source": [
    "# Compile and fit the model\n",
    "nn.compile(loss=\"msle\", optimizer=\"adam\", metrics=[\"msle\"])\n",
    "\n",
    "nn_fit = nn.fit(X_train, y_train, epochs=50)"
   ]
  },
  {
   "cell_type": "code",
   "execution_count": 16,
   "metadata": {},
   "outputs": [
    {
     "name": "stdout",
     "output_type": "stream",
     "text": [
      "391/391 - 4s - loss: 0.1348 - msle: 0.1348 - 4s/epoch - 9ms/step\n",
      "Loss: 0.13478031754493713, MSLE: 0.13478031754493713\n"
     ]
    }
   ],
   "source": [
    "# Evaluate the model using the test data\n",
    "model_loss, model_msle = nn.evaluate(X_test,y_test,verbose=2)\n",
    "print(f\"Loss: {model_loss}, MSLE: {model_msle}\")"
   ]
  },
  {
   "cell_type": "code",
   "execution_count": 24,
   "metadata": {},
   "outputs": [
    {
     "name": "stdout",
     "output_type": "stream",
     "text": [
      "1/1 [==============================] - 0s 182ms/step\n"
     ]
    },
    {
     "data": {
      "text/plain": [
       "298628.88"
      ]
     },
     "execution_count": 24,
     "metadata": {},
     "output_type": "execute_result"
    }
   ],
   "source": [
    "# square feet, bedrooms, bathrooms, year built, rural, suburb, urban\n",
    "value = nn.predict([[2700, 6, 4, 1999, 0, 0, 1]])\n",
    "value[0][0]"
   ]
  },
  {
   "cell_type": "code",
   "execution_count": 25,
   "metadata": {},
   "outputs": [],
   "source": [
    "nn.save(filepath=\"models/basic_model.h5\", save_format=\"h5\")"
   ]
  }
 ],
 "metadata": {
  "kernelspec": {
   "display_name": "base",
   "language": "python",
   "name": "python3"
  },
  "language_info": {
   "codemirror_mode": {
    "name": "ipython",
    "version": 3
   },
   "file_extension": ".py",
   "mimetype": "text/x-python",
   "name": "python",
   "nbconvert_exporter": "python",
   "pygments_lexer": "ipython3",
   "version": "3.9.13"
  }
 },
 "nbformat": 4,
 "nbformat_minor": 2
}
