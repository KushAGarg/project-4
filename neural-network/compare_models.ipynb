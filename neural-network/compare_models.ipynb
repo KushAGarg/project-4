{
 "cells": [
  {
   "cell_type": "code",
   "execution_count": 3,
   "metadata": {},
   "outputs": [],
   "source": [
    "import pandas as pd\n",
    "import tensorflow as tf\n",
    "from pathlib import Path\n",
    "from sklearn.model_selection import train_test_split"
   ]
  },
  {
   "cell_type": "code",
   "execution_count": 4,
   "metadata": {},
   "outputs": [],
   "source": [
    "basic = tf.keras.models.load_model(\"models/basic_model.h5\")"
   ]
  },
  {
   "cell_type": "code",
   "execution_count": 5,
   "metadata": {},
   "outputs": [],
   "source": [
    "def load_opt_models(num):\n",
    "    ret = list()\n",
    "    search_str = \"models/optimized_model_\"\n",
    "    end_str = \".h5\"\n",
    "    for i in range(1, num+1):\n",
    "        ret.append(tf.keras.models.load_model(search_str + str(i) + end_str))\n",
    "    return ret"
   ]
  },
  {
   "cell_type": "code",
   "execution_count": 6,
   "metadata": {},
   "outputs": [
    {
     "name": "stdout",
     "output_type": "stream",
     "text": [
      "Model: \"sequential\"\n",
      "_________________________________________________________________\n",
      " Layer (type)                Output Shape              Param #   \n",
      "=================================================================\n",
      " dense (Dense)               (None, 10)                80        \n",
      "                                                                 \n",
      " dense_1 (Dense)             (None, 20)                220       \n",
      "                                                                 \n",
      " dense_2 (Dense)             (None, 5)                 105       \n",
      "                                                                 \n",
      " dense_3 (Dense)             (None, 1)                 6         \n",
      "                                                                 \n",
      "=================================================================\n",
      "Total params: 411\n",
      "Trainable params: 411\n",
      "Non-trainable params: 0\n",
      "_________________________________________________________________\n",
      "None\n",
      "Model: \"sequential_3\"\n",
      "_________________________________________________________________\n",
      " Layer (type)                Output Shape              Param #   \n",
      "=================================================================\n",
      " dense_7 (Dense)             (None, 10)                80        \n",
      "                                                                 \n",
      " dense_8 (Dense)             (None, 20)                220       \n",
      "                                                                 \n",
      " dense_9 (Dense)             (None, 40)                840       \n",
      "                                                                 \n",
      " dense_10 (Dense)            (None, 1)                 41        \n",
      "                                                                 \n",
      "=================================================================\n",
      "Total params: 1,181\n",
      "Trainable params: 1,181\n",
      "Non-trainable params: 0\n",
      "_________________________________________________________________\n",
      "None\n",
      "Model: \"sequential\"\n",
      "_________________________________________________________________\n",
      " Layer (type)                Output Shape              Param #   \n",
      "=================================================================\n",
      " dense (Dense)               (None, 10)                80        \n",
      "                                                                 \n",
      " dense_1 (Dense)             (None, 20)                220       \n",
      "                                                                 \n",
      " dense_2 (Dense)             (None, 10)                210       \n",
      "                                                                 \n",
      " dense_3 (Dense)             (None, 1)                 11        \n",
      "                                                                 \n",
      "=================================================================\n",
      "Total params: 521\n",
      "Trainable params: 521\n",
      "Non-trainable params: 0\n",
      "_________________________________________________________________\n",
      "None\n",
      "Model: \"sequential\"\n",
      "_________________________________________________________________\n",
      " Layer (type)                Output Shape              Param #   \n",
      "=================================================================\n",
      " dense (Dense)               (None, 10)                80        \n",
      "                                                                 \n",
      " dense_1 (Dense)             (None, 20)                220       \n",
      "                                                                 \n",
      " dense_2 (Dense)             (None, 10)                210       \n",
      "                                                                 \n",
      " dense_3 (Dense)             (None, 1)                 11        \n",
      "                                                                 \n",
      "=================================================================\n",
      "Total params: 521\n",
      "Trainable params: 521\n",
      "Non-trainable params: 0\n",
      "_________________________________________________________________\n",
      "None\n",
      "Model: \"sequential_1\"\n",
      "_________________________________________________________________\n",
      " Layer (type)                Output Shape              Param #   \n",
      "=================================================================\n",
      " dense_4 (Dense)             (None, 10)                80        \n",
      "                                                                 \n",
      " dense_5 (Dense)             (None, 20)                220       \n",
      "                                                                 \n",
      " dense_6 (Dense)             (None, 8)                 168       \n",
      "                                                                 \n",
      " dense_7 (Dense)             (None, 1)                 9         \n",
      "                                                                 \n",
      "=================================================================\n",
      "Total params: 477\n",
      "Trainable params: 477\n",
      "Non-trainable params: 0\n",
      "_________________________________________________________________\n",
      "None\n"
     ]
    }
   ],
   "source": [
    "num_opt_models = 4\n",
    "opt_models = load_opt_models(num_opt_models)\n",
    "\n",
    "all_models = {\"basic\": basic}\n",
    "for i in range(len(opt_models)):\n",
    "    all_models[\"opt\" + str(i+1)] = opt_models[i]\n",
    "\n",
    "for model in all_models.values():\n",
    "    print(model.summary())"
   ]
  },
  {
   "cell_type": "code",
   "execution_count": 7,
   "metadata": {},
   "outputs": [],
   "source": [
    "def transform_input(sqft, bed, bath, loc, year):\n",
    "    ret = [sqft, bed, bath, year]\n",
    "    if loc.lower() == \"rural\":\n",
    "        ret += [1, 0, 0]\n",
    "    elif loc.lower() == \"suburban\":\n",
    "        ret += [0, 1, 0]\n",
    "    elif loc.lower() == \"urban\":\n",
    "        ret += [0, 0, 1]\n",
    "    else:\n",
    "        return []\n",
    "    return ret"
   ]
  },
  {
   "cell_type": "code",
   "execution_count": 8,
   "metadata": {},
   "outputs": [
    {
     "name": "stdout",
     "output_type": "stream",
     "text": [
      "1/1 [==============================] - 0s 228ms/step\n",
      "basic predicted a value of 275349.625\n",
      "1/1 [==============================] - 0s 124ms/step\n",
      "opt1 predicted a value of 271323.6875\n",
      "1/1 [==============================] - 0s 125ms/step\n",
      "opt2 predicted a value of 269215.71875\n",
      "1/1 [==============================] - 0s 121ms/step\n",
      "opt3 predicted a value of 272169.8125\n",
      "WARNING:tensorflow:5 out of the last 5 calls to <function Model.make_predict_function.<locals>.predict_function at 0x0000018159A8F280> triggered tf.function retracing. Tracing is expensive and the excessive number of tracings could be due to (1) creating @tf.function repeatedly in a loop, (2) passing tensors with different shapes, (3) passing Python objects instead of tensors. For (1), please define your @tf.function outside of the loop. For (2), @tf.function has reduce_retracing=True option that can avoid unnecessary retracing. For (3), please refer to https://www.tensorflow.org/guide/function#controlling_retracing and https://www.tensorflow.org/api_docs/python/tf/function for  more details.\n",
      "1/1 [==============================] - 0s 142ms/step\n",
      "opt4 predicted a value of 270016.3125\n"
     ]
    }
   ],
   "source": [
    "inp = transform_input(sqft = 2500, bed = 4, bath = 1, year = 2000, loc = \"urban\")\n",
    "\n",
    "for name, model in all_models.items():\n",
    "    value = model.predict([inp])\n",
    "    print(f\"{name} predicted a value of {value[0][0]}\")"
   ]
  },
  {
   "cell_type": "code",
   "execution_count": 9,
   "metadata": {},
   "outputs": [],
   "source": [
    "def set_up_data():\n",
    "    df = pd.read_csv(Path(\"../data/housing_price_dataset.csv\"))\n",
    "    full_df = pd.get_dummies(df)\n",
    "    X = full_df.drop([\"Price\"], axis=1)\n",
    "    y = full_df[[\"Price\"]]\n",
    "    return train_test_split(X, y, random_state = 50)"
   ]
  },
  {
   "cell_type": "code",
   "execution_count": 10,
   "metadata": {},
   "outputs": [
    {
     "name": "stdout",
     "output_type": "stream",
     "text": [
      "FOR MODEL basic\n",
      "391/391 - 1s - loss: 0.1348 - msle: 0.1348 - 955ms/epoch - 2ms/step\n",
      "FOR MODEL opt1\n",
      "391/391 - 1s - loss: 0.1345 - msle: 0.1345 - 665ms/epoch - 2ms/step\n",
      "FOR MODEL opt2\n",
      "391/391 - 1s - loss: 0.1345 - msle: 0.1345 - 648ms/epoch - 2ms/step\n",
      "FOR MODEL opt3\n",
      "391/391 - 1s - loss: 0.1342 - msle: 0.1342 - 657ms/epoch - 2ms/step\n",
      "FOR MODEL opt4\n",
      "391/391 - 1s - loss: 0.1342 - msle: 0.1342 - 658ms/epoch - 2ms/step\n"
     ]
    }
   ],
   "source": [
    "X_train, X_test, y_train, y_test = set_up_data()\n",
    "for name, model in all_models.items():\n",
    "    print(f\"FOR MODEL {name}\")\n",
    "    model_loss, model_msle = model.evaluate(X_test, y_test, verbose=2)"
   ]
  }
 ],
 "metadata": {
  "kernelspec": {
   "display_name": "base",
   "language": "python",
   "name": "python3"
  },
  "language_info": {
   "codemirror_mode": {
    "name": "ipython",
    "version": 3
   },
   "file_extension": ".py",
   "mimetype": "text/x-python",
   "name": "python",
   "nbconvert_exporter": "python",
   "pygments_lexer": "ipython3",
   "version": "3.9.13"
  }
 },
 "nbformat": 4,
 "nbformat_minor": 2
}
